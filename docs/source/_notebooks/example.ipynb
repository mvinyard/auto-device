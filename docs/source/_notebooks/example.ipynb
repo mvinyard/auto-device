{
 "cells": [
  {
   "cell_type": "markdown",
   "id": "ffabf82a",
   "metadata": {},
   "source": [
    "### Import"
   ]
  },
  {
   "cell_type": "code",
   "execution_count": 8,
   "id": "bdfbd879",
   "metadata": {},
   "outputs": [
    {
     "name": "stdout",
     "output_type": "stream",
     "text": [
      "0.1.0rc0\n"
     ]
    }
   ],
   "source": [
    "import autodevice\n",
    "\n",
    "print(autodevice.__version__)"
   ]
  },
  {
   "cell_type": "markdown",
   "id": "caecbb22",
   "metadata": {},
   "source": [
    "### When using a gpu:"
   ]
  },
  {
   "cell_type": "code",
   "execution_count": 9,
   "id": "0e1539c7",
   "metadata": {},
   "outputs": [
    {
     "name": "stdout",
     "output_type": "stream",
     "text": [
      "cuda:0\n"
     ]
    }
   ],
   "source": [
    "print(autodevice.AutoDevice())"
   ]
  },
  {
   "cell_type": "markdown",
   "id": "47d20277",
   "metadata": {},
   "source": [
    "### gpu, but force cpu"
   ]
  },
  {
   "cell_type": "code",
   "execution_count": 10,
   "id": "86b759cc",
   "metadata": {},
   "outputs": [
    {
     "name": "stdout",
     "output_type": "stream",
     "text": [
      "cpu\n"
     ]
    }
   ],
   "source": [
    "print(autodevice.AutoDevice(use_cpu=True))"
   ]
  },
  {
   "cell_type": "markdown",
   "id": "4d226d58",
   "metadata": {},
   "source": [
    "### Call cpu use from kwargs"
   ]
  },
  {
   "cell_type": "code",
   "execution_count": 11,
   "id": "7f13bbad",
   "metadata": {},
   "outputs": [
    {
     "name": "stdout",
     "output_type": "stream",
     "text": [
      "cpu\n"
     ]
    }
   ],
   "source": [
    "print(autodevice.AutoDevice(cpu=True))"
   ]
  }
 ],
 "metadata": {
  "kernelspec": {
   "display_name": "Python [conda env:sdq]",
   "language": "python",
   "name": "conda-env-sdq-py"
  },
  "language_info": {
   "codemirror_mode": {
    "name": "ipython",
    "version": 3
   },
   "file_extension": ".py",
   "mimetype": "text/x-python",
   "name": "python",
   "nbconvert_exporter": "python",
   "pygments_lexer": "ipython3",
   "version": "3.9.15"
  }
 },
 "nbformat": 4,
 "nbformat_minor": 5
}
